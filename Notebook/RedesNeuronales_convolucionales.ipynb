{
 "cells": [
  {
   "cell_type": "markdown",
   "metadata": {},
   "source": [
    "# Redes Neuronales Convolucionales (CNN)\n",
    "\n",
    "## Proyecto 1: Detección de números escritos a mano"
   ]
  },
  {
   "cell_type": "markdown",
   "metadata": {},
   "source": [
    "**Tabla de contenidos**   \n",
    "1. [Importar librerías](#importar-librerías)\n",
    "2. [Carga y preparación del set de datos MNIST](#carga-y-preparación-del-set-de-datos-mnist)\n",
    "3. [Codificación y normalización de los datos](#codificación-y-normalización-de-los-datos)\n",
    "4. [Aumento de datos (Data Augmentation)](#aumento-de-datos-data-augmentation)\n",
    "5. [Creación del modelo y compilación](#creación-del-modelo-y-compilación)\n",
    "6. [Entrenamiento de la red neuronal](#entrenamiento-de-la-red-neuronal)\n",
    "7. [Gráficos](#gráficos)\n",
    "8. [Guardar modelo entrenado](#guardar-modelo-entrenado)"
   ]
  },
  {
   "cell_type": "markdown",
   "metadata": {},
   "source": [
    "### Importar librerías"
   ]
  },
  {
   "cell_type": "code",
   "execution_count": 1,
   "metadata": {},
   "outputs": [
    {
     "ename": "KeyboardInterrupt",
     "evalue": "",
     "output_type": "error",
     "traceback": [
      "\u001b[1;31m---------------------------------------------------------------------------\u001b[0m",
      "\u001b[1;31mKeyboardInterrupt\u001b[0m                         Traceback (most recent call last)",
      "Cell \u001b[1;32mIn[1], line 1\u001b[0m\n\u001b[1;32m----> 1\u001b[0m \u001b[38;5;28;01mimport\u001b[39;00m \u001b[38;5;21;01mtensorflow\u001b[39;00m \u001b[38;5;28;01mas\u001b[39;00m \u001b[38;5;21;01mtf\u001b[39;00m\n\u001b[0;32m      2\u001b[0m \u001b[38;5;28;01mfrom\u001b[39;00m \u001b[38;5;21;01mtensorflow\u001b[39;00m\u001b[38;5;21;01m.\u001b[39;00m\u001b[38;5;21;01mkeras\u001b[39;00m\u001b[38;5;21;01m.\u001b[39;00m\u001b[38;5;21;01mdatasets\u001b[39;00m \u001b[38;5;28;01mimport\u001b[39;00m mnist\n\u001b[0;32m      3\u001b[0m \u001b[38;5;28;01mimport\u001b[39;00m \u001b[38;5;21;01mnumpy\u001b[39;00m \u001b[38;5;28;01mas\u001b[39;00m \u001b[38;5;21;01mnp\u001b[39;00m\n",
      "File \u001b[1;32mc:\\Users\\kina5\\Desktop\\Bootcamp\\mi_entorno\\lib\\site-packages\\tensorflow\\__init__.py:54\u001b[0m\n\u001b[0;32m     52\u001b[0m \u001b[38;5;28;01mfrom\u001b[39;00m \u001b[38;5;21;01mtensorflow\u001b[39;00m\u001b[38;5;21;01m.\u001b[39;00m\u001b[38;5;21;01m_api\u001b[39;00m\u001b[38;5;21;01m.\u001b[39;00m\u001b[38;5;21;01mv2\u001b[39;00m \u001b[38;5;28;01mimport\u001b[39;00m autograph\n\u001b[0;32m     53\u001b[0m \u001b[38;5;28;01mfrom\u001b[39;00m \u001b[38;5;21;01mtensorflow\u001b[39;00m\u001b[38;5;21;01m.\u001b[39;00m\u001b[38;5;21;01m_api\u001b[39;00m\u001b[38;5;21;01m.\u001b[39;00m\u001b[38;5;21;01mv2\u001b[39;00m \u001b[38;5;28;01mimport\u001b[39;00m bitwise\n\u001b[1;32m---> 54\u001b[0m \u001b[38;5;28;01mfrom\u001b[39;00m \u001b[38;5;21;01mtensorflow\u001b[39;00m\u001b[38;5;21;01m.\u001b[39;00m\u001b[38;5;21;01m_api\u001b[39;00m\u001b[38;5;21;01m.\u001b[39;00m\u001b[38;5;21;01mv2\u001b[39;00m \u001b[38;5;28;01mimport\u001b[39;00m compat\n\u001b[0;32m     55\u001b[0m \u001b[38;5;28;01mfrom\u001b[39;00m \u001b[38;5;21;01mtensorflow\u001b[39;00m\u001b[38;5;21;01m.\u001b[39;00m\u001b[38;5;21;01m_api\u001b[39;00m\u001b[38;5;21;01m.\u001b[39;00m\u001b[38;5;21;01mv2\u001b[39;00m \u001b[38;5;28;01mimport\u001b[39;00m config\n\u001b[0;32m     56\u001b[0m \u001b[38;5;28;01mfrom\u001b[39;00m \u001b[38;5;21;01mtensorflow\u001b[39;00m\u001b[38;5;21;01m.\u001b[39;00m\u001b[38;5;21;01m_api\u001b[39;00m\u001b[38;5;21;01m.\u001b[39;00m\u001b[38;5;21;01mv2\u001b[39;00m \u001b[38;5;28;01mimport\u001b[39;00m data\n",
      "File \u001b[1;32mc:\\Users\\kina5\\Desktop\\Bootcamp\\mi_entorno\\lib\\site-packages\\tensorflow\\_api\\v2\\compat\\__init__.py:8\u001b[0m\n\u001b[0;32m      3\u001b[0m \u001b[38;5;124;03m\"\"\"Public API for tf._api.v2.compat namespace\u001b[39;00m\n\u001b[0;32m      4\u001b[0m \u001b[38;5;124;03m\"\"\"\u001b[39;00m\n\u001b[0;32m      6\u001b[0m \u001b[38;5;28;01mimport\u001b[39;00m \u001b[38;5;21;01msys\u001b[39;00m \u001b[38;5;28;01mas\u001b[39;00m \u001b[38;5;21;01m_sys\u001b[39;00m\n\u001b[1;32m----> 8\u001b[0m \u001b[38;5;28;01mfrom\u001b[39;00m \u001b[38;5;21;01mtensorflow\u001b[39;00m\u001b[38;5;21;01m.\u001b[39;00m\u001b[38;5;21;01m_api\u001b[39;00m\u001b[38;5;21;01m.\u001b[39;00m\u001b[38;5;21;01mv2\u001b[39;00m\u001b[38;5;21;01m.\u001b[39;00m\u001b[38;5;21;01mcompat\u001b[39;00m \u001b[38;5;28;01mimport\u001b[39;00m v1\n\u001b[0;32m      9\u001b[0m \u001b[38;5;28;01mfrom\u001b[39;00m \u001b[38;5;21;01mtensorflow\u001b[39;00m\u001b[38;5;21;01m.\u001b[39;00m\u001b[38;5;21;01m_api\u001b[39;00m\u001b[38;5;21;01m.\u001b[39;00m\u001b[38;5;21;01mv2\u001b[39;00m\u001b[38;5;21;01m.\u001b[39;00m\u001b[38;5;21;01mcompat\u001b[39;00m \u001b[38;5;28;01mimport\u001b[39;00m v2\n\u001b[0;32m     10\u001b[0m \u001b[38;5;28;01mfrom\u001b[39;00m \u001b[38;5;21;01mtensorflow\u001b[39;00m\u001b[38;5;21;01m.\u001b[39;00m\u001b[38;5;21;01mpython\u001b[39;00m\u001b[38;5;21;01m.\u001b[39;00m\u001b[38;5;21;01mcompat\u001b[39;00m\u001b[38;5;21;01m.\u001b[39;00m\u001b[38;5;21;01mcompat\u001b[39;00m \u001b[38;5;28;01mimport\u001b[39;00m forward_compatibility_horizon \u001b[38;5;66;03m# line: 125\u001b[39;00m\n",
      "File \u001b[1;32mc:\\Users\\kina5\\Desktop\\Bootcamp\\mi_entorno\\lib\\site-packages\\tensorflow\\_api\\v2\\compat\\v1\\__init__.py:32\u001b[0m\n\u001b[0;32m     30\u001b[0m \u001b[38;5;28;01mfrom\u001b[39;00m \u001b[38;5;21;01mtensorflow\u001b[39;00m\u001b[38;5;21;01m.\u001b[39;00m\u001b[38;5;21;01m_api\u001b[39;00m\u001b[38;5;21;01m.\u001b[39;00m\u001b[38;5;21;01mv2\u001b[39;00m\u001b[38;5;21;01m.\u001b[39;00m\u001b[38;5;21;01mcompat\u001b[39;00m\u001b[38;5;21;01m.\u001b[39;00m\u001b[38;5;21;01mv1\u001b[39;00m \u001b[38;5;28;01mimport\u001b[39;00m autograph\n\u001b[0;32m     31\u001b[0m \u001b[38;5;28;01mfrom\u001b[39;00m \u001b[38;5;21;01mtensorflow\u001b[39;00m\u001b[38;5;21;01m.\u001b[39;00m\u001b[38;5;21;01m_api\u001b[39;00m\u001b[38;5;21;01m.\u001b[39;00m\u001b[38;5;21;01mv2\u001b[39;00m\u001b[38;5;21;01m.\u001b[39;00m\u001b[38;5;21;01mcompat\u001b[39;00m\u001b[38;5;21;01m.\u001b[39;00m\u001b[38;5;21;01mv1\u001b[39;00m \u001b[38;5;28;01mimport\u001b[39;00m bitwise\n\u001b[1;32m---> 32\u001b[0m \u001b[38;5;28;01mfrom\u001b[39;00m \u001b[38;5;21;01mtensorflow\u001b[39;00m\u001b[38;5;21;01m.\u001b[39;00m\u001b[38;5;21;01m_api\u001b[39;00m\u001b[38;5;21;01m.\u001b[39;00m\u001b[38;5;21;01mv2\u001b[39;00m\u001b[38;5;21;01m.\u001b[39;00m\u001b[38;5;21;01mcompat\u001b[39;00m\u001b[38;5;21;01m.\u001b[39;00m\u001b[38;5;21;01mv1\u001b[39;00m \u001b[38;5;28;01mimport\u001b[39;00m compat\n\u001b[0;32m     33\u001b[0m \u001b[38;5;28;01mfrom\u001b[39;00m \u001b[38;5;21;01mtensorflow\u001b[39;00m\u001b[38;5;21;01m.\u001b[39;00m\u001b[38;5;21;01m_api\u001b[39;00m\u001b[38;5;21;01m.\u001b[39;00m\u001b[38;5;21;01mv2\u001b[39;00m\u001b[38;5;21;01m.\u001b[39;00m\u001b[38;5;21;01mcompat\u001b[39;00m\u001b[38;5;21;01m.\u001b[39;00m\u001b[38;5;21;01mv1\u001b[39;00m \u001b[38;5;28;01mimport\u001b[39;00m config\n\u001b[0;32m     34\u001b[0m \u001b[38;5;28;01mfrom\u001b[39;00m \u001b[38;5;21;01mtensorflow\u001b[39;00m\u001b[38;5;21;01m.\u001b[39;00m\u001b[38;5;21;01m_api\u001b[39;00m\u001b[38;5;21;01m.\u001b[39;00m\u001b[38;5;21;01mv2\u001b[39;00m\u001b[38;5;21;01m.\u001b[39;00m\u001b[38;5;21;01mcompat\u001b[39;00m\u001b[38;5;21;01m.\u001b[39;00m\u001b[38;5;21;01mv1\u001b[39;00m \u001b[38;5;28;01mimport\u001b[39;00m data\n",
      "File \u001b[1;32mc:\\Users\\kina5\\Desktop\\Bootcamp\\mi_entorno\\lib\\site-packages\\tensorflow\\_api\\v2\\compat\\v1\\compat\\__init__.py:9\u001b[0m\n\u001b[0;32m      6\u001b[0m \u001b[38;5;28;01mimport\u001b[39;00m \u001b[38;5;21;01msys\u001b[39;00m \u001b[38;5;28;01mas\u001b[39;00m \u001b[38;5;21;01m_sys\u001b[39;00m\n\u001b[0;32m      8\u001b[0m \u001b[38;5;28;01mfrom\u001b[39;00m \u001b[38;5;21;01mtensorflow\u001b[39;00m\u001b[38;5;21;01m.\u001b[39;00m\u001b[38;5;21;01m_api\u001b[39;00m\u001b[38;5;21;01m.\u001b[39;00m\u001b[38;5;21;01mv2\u001b[39;00m\u001b[38;5;21;01m.\u001b[39;00m\u001b[38;5;21;01mcompat\u001b[39;00m\u001b[38;5;21;01m.\u001b[39;00m\u001b[38;5;21;01mv1\u001b[39;00m\u001b[38;5;21;01m.\u001b[39;00m\u001b[38;5;21;01mcompat\u001b[39;00m \u001b[38;5;28;01mimport\u001b[39;00m v1\n\u001b[1;32m----> 9\u001b[0m \u001b[38;5;28;01mfrom\u001b[39;00m \u001b[38;5;21;01mtensorflow\u001b[39;00m\u001b[38;5;21;01m.\u001b[39;00m\u001b[38;5;21;01m_api\u001b[39;00m\u001b[38;5;21;01m.\u001b[39;00m\u001b[38;5;21;01mv2\u001b[39;00m\u001b[38;5;21;01m.\u001b[39;00m\u001b[38;5;21;01mcompat\u001b[39;00m\u001b[38;5;21;01m.\u001b[39;00m\u001b[38;5;21;01mv1\u001b[39;00m\u001b[38;5;21;01m.\u001b[39;00m\u001b[38;5;21;01mcompat\u001b[39;00m \u001b[38;5;28;01mimport\u001b[39;00m v2\n\u001b[0;32m     10\u001b[0m \u001b[38;5;28;01mfrom\u001b[39;00m \u001b[38;5;21;01mtensorflow\u001b[39;00m\u001b[38;5;21;01m.\u001b[39;00m\u001b[38;5;21;01mpython\u001b[39;00m\u001b[38;5;21;01m.\u001b[39;00m\u001b[38;5;21;01mcompat\u001b[39;00m\u001b[38;5;21;01m.\u001b[39;00m\u001b[38;5;21;01mcompat\u001b[39;00m \u001b[38;5;28;01mimport\u001b[39;00m forward_compatibility_horizon \u001b[38;5;66;03m# line: 125\u001b[39;00m\n\u001b[0;32m     11\u001b[0m \u001b[38;5;28;01mfrom\u001b[39;00m \u001b[38;5;21;01mtensorflow\u001b[39;00m\u001b[38;5;21;01m.\u001b[39;00m\u001b[38;5;21;01mpython\u001b[39;00m\u001b[38;5;21;01m.\u001b[39;00m\u001b[38;5;21;01mcompat\u001b[39;00m\u001b[38;5;21;01m.\u001b[39;00m\u001b[38;5;21;01mcompat\u001b[39;00m \u001b[38;5;28;01mimport\u001b[39;00m forward_compatible \u001b[38;5;66;03m# line: 65\u001b[39;00m\n",
      "File \u001b[1;32mc:\\Users\\kina5\\Desktop\\Bootcamp\\mi_entorno\\lib\\site-packages\\tensorflow\\_api\\v2\\compat\\v1\\compat\\v2\\__init__.py:28\u001b[0m\n\u001b[0;32m     25\u001b[0m \u001b[38;5;28;01mfrom\u001b[39;00m \u001b[38;5;21;01mtensorflow\u001b[39;00m\u001b[38;5;21;01m.\u001b[39;00m\u001b[38;5;21;01mpython\u001b[39;00m\u001b[38;5;21;01m.\u001b[39;00m\u001b[38;5;21;01mutil\u001b[39;00m\u001b[38;5;21;01m.\u001b[39;00m\u001b[38;5;21;01mlazy_loader\u001b[39;00m \u001b[38;5;28;01mimport\u001b[39;00m LazyLoader \u001b[38;5;28;01mas\u001b[39;00m _LazyLoader\n\u001b[0;32m     26\u001b[0m \u001b[38;5;28;01mfrom\u001b[39;00m \u001b[38;5;21;01mtensorflow\u001b[39;00m\u001b[38;5;21;01m.\u001b[39;00m\u001b[38;5;21;01mpython\u001b[39;00m\u001b[38;5;21;01m.\u001b[39;00m\u001b[38;5;21;01mutil\u001b[39;00m\u001b[38;5;21;01m.\u001b[39;00m\u001b[38;5;21;01mlazy_loader\u001b[39;00m \u001b[38;5;28;01mimport\u001b[39;00m KerasLazyLoader \u001b[38;5;28;01mas\u001b[39;00m _KerasLazyLoader\n\u001b[1;32m---> 28\u001b[0m \u001b[38;5;28;01mfrom\u001b[39;00m \u001b[38;5;21;01mtensorflow\u001b[39;00m\u001b[38;5;21;01m.\u001b[39;00m\u001b[38;5;21;01m_api\u001b[39;00m\u001b[38;5;21;01m.\u001b[39;00m\u001b[38;5;21;01mv2\u001b[39;00m\u001b[38;5;21;01m.\u001b[39;00m\u001b[38;5;21;01mcompat\u001b[39;00m\u001b[38;5;21;01m.\u001b[39;00m\u001b[38;5;21;01mv2\u001b[39;00m \u001b[38;5;28;01mimport\u001b[39;00m __internal__\n\u001b[0;32m     29\u001b[0m \u001b[38;5;28;01mfrom\u001b[39;00m \u001b[38;5;21;01mtensorflow\u001b[39;00m\u001b[38;5;21;01m.\u001b[39;00m\u001b[38;5;21;01m_api\u001b[39;00m\u001b[38;5;21;01m.\u001b[39;00m\u001b[38;5;21;01mv2\u001b[39;00m\u001b[38;5;21;01m.\u001b[39;00m\u001b[38;5;21;01mcompat\u001b[39;00m\u001b[38;5;21;01m.\u001b[39;00m\u001b[38;5;21;01mv2\u001b[39;00m \u001b[38;5;28;01mimport\u001b[39;00m __operators__\n\u001b[0;32m     30\u001b[0m \u001b[38;5;28;01mfrom\u001b[39;00m \u001b[38;5;21;01mtensorflow\u001b[39;00m\u001b[38;5;21;01m.\u001b[39;00m\u001b[38;5;21;01m_api\u001b[39;00m\u001b[38;5;21;01m.\u001b[39;00m\u001b[38;5;21;01mv2\u001b[39;00m\u001b[38;5;21;01m.\u001b[39;00m\u001b[38;5;21;01mcompat\u001b[39;00m\u001b[38;5;21;01m.\u001b[39;00m\u001b[38;5;21;01mv2\u001b[39;00m \u001b[38;5;28;01mimport\u001b[39;00m audio\n",
      "File \u001b[1;32mc:\\Users\\kina5\\Desktop\\Bootcamp\\mi_entorno\\lib\\site-packages\\tensorflow\\_api\\v2\\compat\\v2\\__init__.py:34\u001b[0m\n\u001b[0;32m     32\u001b[0m \u001b[38;5;28;01mfrom\u001b[39;00m \u001b[38;5;21;01mtensorflow\u001b[39;00m\u001b[38;5;21;01m.\u001b[39;00m\u001b[38;5;21;01m_api\u001b[39;00m\u001b[38;5;21;01m.\u001b[39;00m\u001b[38;5;21;01mv2\u001b[39;00m\u001b[38;5;21;01m.\u001b[39;00m\u001b[38;5;21;01mcompat\u001b[39;00m\u001b[38;5;21;01m.\u001b[39;00m\u001b[38;5;21;01mv2\u001b[39;00m \u001b[38;5;28;01mimport\u001b[39;00m autograph\n\u001b[0;32m     33\u001b[0m \u001b[38;5;28;01mfrom\u001b[39;00m \u001b[38;5;21;01mtensorflow\u001b[39;00m\u001b[38;5;21;01m.\u001b[39;00m\u001b[38;5;21;01m_api\u001b[39;00m\u001b[38;5;21;01m.\u001b[39;00m\u001b[38;5;21;01mv2\u001b[39;00m\u001b[38;5;21;01m.\u001b[39;00m\u001b[38;5;21;01mcompat\u001b[39;00m\u001b[38;5;21;01m.\u001b[39;00m\u001b[38;5;21;01mv2\u001b[39;00m \u001b[38;5;28;01mimport\u001b[39;00m bitwise\n\u001b[1;32m---> 34\u001b[0m \u001b[38;5;28;01mfrom\u001b[39;00m \u001b[38;5;21;01mtensorflow\u001b[39;00m\u001b[38;5;21;01m.\u001b[39;00m\u001b[38;5;21;01m_api\u001b[39;00m\u001b[38;5;21;01m.\u001b[39;00m\u001b[38;5;21;01mv2\u001b[39;00m\u001b[38;5;21;01m.\u001b[39;00m\u001b[38;5;21;01mcompat\u001b[39;00m\u001b[38;5;21;01m.\u001b[39;00m\u001b[38;5;21;01mv2\u001b[39;00m \u001b[38;5;28;01mimport\u001b[39;00m compat\n\u001b[0;32m     35\u001b[0m \u001b[38;5;28;01mfrom\u001b[39;00m \u001b[38;5;21;01mtensorflow\u001b[39;00m\u001b[38;5;21;01m.\u001b[39;00m\u001b[38;5;21;01m_api\u001b[39;00m\u001b[38;5;21;01m.\u001b[39;00m\u001b[38;5;21;01mv2\u001b[39;00m\u001b[38;5;21;01m.\u001b[39;00m\u001b[38;5;21;01mcompat\u001b[39;00m\u001b[38;5;21;01m.\u001b[39;00m\u001b[38;5;21;01mv2\u001b[39;00m \u001b[38;5;28;01mimport\u001b[39;00m config\n\u001b[0;32m     36\u001b[0m \u001b[38;5;28;01mfrom\u001b[39;00m \u001b[38;5;21;01mtensorflow\u001b[39;00m\u001b[38;5;21;01m.\u001b[39;00m\u001b[38;5;21;01m_api\u001b[39;00m\u001b[38;5;21;01m.\u001b[39;00m\u001b[38;5;21;01mv2\u001b[39;00m\u001b[38;5;21;01m.\u001b[39;00m\u001b[38;5;21;01mcompat\u001b[39;00m\u001b[38;5;21;01m.\u001b[39;00m\u001b[38;5;21;01mv2\u001b[39;00m \u001b[38;5;28;01mimport\u001b[39;00m data\n",
      "File \u001b[1;32mc:\\Users\\kina5\\Desktop\\Bootcamp\\mi_entorno\\lib\\site-packages\\tensorflow\\_api\\v2\\compat\\v2\\compat\\__init__.py:9\u001b[0m\n\u001b[0;32m      6\u001b[0m \u001b[38;5;28;01mimport\u001b[39;00m \u001b[38;5;21;01msys\u001b[39;00m \u001b[38;5;28;01mas\u001b[39;00m \u001b[38;5;21;01m_sys\u001b[39;00m\n\u001b[0;32m      8\u001b[0m \u001b[38;5;28;01mfrom\u001b[39;00m \u001b[38;5;21;01mtensorflow\u001b[39;00m\u001b[38;5;21;01m.\u001b[39;00m\u001b[38;5;21;01m_api\u001b[39;00m\u001b[38;5;21;01m.\u001b[39;00m\u001b[38;5;21;01mv2\u001b[39;00m\u001b[38;5;21;01m.\u001b[39;00m\u001b[38;5;21;01mcompat\u001b[39;00m\u001b[38;5;21;01m.\u001b[39;00m\u001b[38;5;21;01mv2\u001b[39;00m\u001b[38;5;21;01m.\u001b[39;00m\u001b[38;5;21;01mcompat\u001b[39;00m \u001b[38;5;28;01mimport\u001b[39;00m v1\n\u001b[1;32m----> 9\u001b[0m \u001b[38;5;28;01mfrom\u001b[39;00m \u001b[38;5;21;01mtensorflow\u001b[39;00m\u001b[38;5;21;01m.\u001b[39;00m\u001b[38;5;21;01m_api\u001b[39;00m\u001b[38;5;21;01m.\u001b[39;00m\u001b[38;5;21;01mv2\u001b[39;00m\u001b[38;5;21;01m.\u001b[39;00m\u001b[38;5;21;01mcompat\u001b[39;00m\u001b[38;5;21;01m.\u001b[39;00m\u001b[38;5;21;01mv2\u001b[39;00m\u001b[38;5;21;01m.\u001b[39;00m\u001b[38;5;21;01mcompat\u001b[39;00m \u001b[38;5;28;01mimport\u001b[39;00m v2\n\u001b[0;32m     10\u001b[0m \u001b[38;5;28;01mfrom\u001b[39;00m \u001b[38;5;21;01mtensorflow\u001b[39;00m\u001b[38;5;21;01m.\u001b[39;00m\u001b[38;5;21;01mpython\u001b[39;00m\u001b[38;5;21;01m.\u001b[39;00m\u001b[38;5;21;01mcompat\u001b[39;00m\u001b[38;5;21;01m.\u001b[39;00m\u001b[38;5;21;01mcompat\u001b[39;00m \u001b[38;5;28;01mimport\u001b[39;00m forward_compatibility_horizon \u001b[38;5;66;03m# line: 125\u001b[39;00m\n\u001b[0;32m     11\u001b[0m \u001b[38;5;28;01mfrom\u001b[39;00m \u001b[38;5;21;01mtensorflow\u001b[39;00m\u001b[38;5;21;01m.\u001b[39;00m\u001b[38;5;21;01mpython\u001b[39;00m\u001b[38;5;21;01m.\u001b[39;00m\u001b[38;5;21;01mcompat\u001b[39;00m\u001b[38;5;21;01m.\u001b[39;00m\u001b[38;5;21;01mcompat\u001b[39;00m \u001b[38;5;28;01mimport\u001b[39;00m forward_compatible \u001b[38;5;66;03m# line: 65\u001b[39;00m\n",
      "File \u001b[1;32mc:\\Users\\kina5\\Desktop\\Bootcamp\\mi_entorno\\lib\\site-packages\\tensorflow\\_api\\v2\\compat\\v2\\compat\\v2\\__init__.py:341\u001b[0m\n\u001b[0;32m    339\u001b[0m _current_module \u001b[38;5;241m=\u001b[39m _sys\u001b[38;5;241m.\u001b[39mmodules[\u001b[38;5;18m__name__\u001b[39m]\n\u001b[0;32m    340\u001b[0m \u001b[38;5;28;01mtry\u001b[39;00m:\n\u001b[1;32m--> 341\u001b[0m   \u001b[38;5;28;01mfrom\u001b[39;00m \u001b[38;5;21;01mtensorboard\u001b[39;00m\u001b[38;5;21;01m.\u001b[39;00m\u001b[38;5;21;01msummary\u001b[39;00m\u001b[38;5;21;01m.\u001b[39;00m\u001b[38;5;21;01m_tf\u001b[39;00m \u001b[38;5;28;01mimport\u001b[39;00m summary\n\u001b[0;32m    342\u001b[0m   _current_module\u001b[38;5;241m.\u001b[39m__path__ \u001b[38;5;241m=\u001b[39m (\n\u001b[0;32m    343\u001b[0m       [_module_util\u001b[38;5;241m.\u001b[39mget_parent_dir(summary)] \u001b[38;5;241m+\u001b[39m _current_module\u001b[38;5;241m.\u001b[39m__path__)\n\u001b[0;32m    344\u001b[0m   \u001b[38;5;28msetattr\u001b[39m(_current_module, \u001b[38;5;124m\"\u001b[39m\u001b[38;5;124msummary\u001b[39m\u001b[38;5;124m\"\u001b[39m, summary)\n",
      "File \u001b[1;32mc:\\Users\\kina5\\Desktop\\Bootcamp\\mi_entorno\\lib\\site-packages\\tensorboard\\summary\\__init__.py:22\u001b[0m\n\u001b[0;32m     20\u001b[0m \u001b[38;5;66;03m# If the V1 summary API is accessible, load and re-export it here.\u001b[39;00m\n\u001b[0;32m     21\u001b[0m \u001b[38;5;28;01mtry\u001b[39;00m:\n\u001b[1;32m---> 22\u001b[0m     \u001b[38;5;28;01mfrom\u001b[39;00m \u001b[38;5;21;01mtensorboard\u001b[39;00m\u001b[38;5;21;01m.\u001b[39;00m\u001b[38;5;21;01msummary\u001b[39;00m \u001b[38;5;28;01mimport\u001b[39;00m v1  \u001b[38;5;66;03m# noqa: F401\u001b[39;00m\n\u001b[0;32m     23\u001b[0m \u001b[38;5;28;01mexcept\u001b[39;00m \u001b[38;5;167;01mImportError\u001b[39;00m:\n\u001b[0;32m     24\u001b[0m     \u001b[38;5;28;01mpass\u001b[39;00m\n",
      "File \u001b[1;32mc:\\Users\\kina5\\Desktop\\Bootcamp\\mi_entorno\\lib\\site-packages\\tensorboard\\summary\\v1.py:23\u001b[0m\n\u001b[0;32m     21\u001b[0m \u001b[38;5;28;01mfrom\u001b[39;00m \u001b[38;5;21;01mtensorboard\u001b[39;00m\u001b[38;5;21;01m.\u001b[39;00m\u001b[38;5;21;01mplugins\u001b[39;00m\u001b[38;5;21;01m.\u001b[39;00m\u001b[38;5;21;01maudio\u001b[39;00m \u001b[38;5;28;01mimport\u001b[39;00m summary \u001b[38;5;28;01mas\u001b[39;00m _audio_summary\n\u001b[0;32m     22\u001b[0m \u001b[38;5;28;01mfrom\u001b[39;00m \u001b[38;5;21;01mtensorboard\u001b[39;00m\u001b[38;5;21;01m.\u001b[39;00m\u001b[38;5;21;01mplugins\u001b[39;00m\u001b[38;5;21;01m.\u001b[39;00m\u001b[38;5;21;01mcustom_scalar\u001b[39;00m \u001b[38;5;28;01mimport\u001b[39;00m summary \u001b[38;5;28;01mas\u001b[39;00m _custom_scalar_summary\n\u001b[1;32m---> 23\u001b[0m \u001b[38;5;28;01mfrom\u001b[39;00m \u001b[38;5;21;01mtensorboard\u001b[39;00m\u001b[38;5;21;01m.\u001b[39;00m\u001b[38;5;21;01mplugins\u001b[39;00m\u001b[38;5;21;01m.\u001b[39;00m\u001b[38;5;21;01mhistogram\u001b[39;00m \u001b[38;5;28;01mimport\u001b[39;00m summary \u001b[38;5;28;01mas\u001b[39;00m _histogram_summary\n\u001b[0;32m     24\u001b[0m \u001b[38;5;28;01mfrom\u001b[39;00m \u001b[38;5;21;01mtensorboard\u001b[39;00m\u001b[38;5;21;01m.\u001b[39;00m\u001b[38;5;21;01mplugins\u001b[39;00m\u001b[38;5;21;01m.\u001b[39;00m\u001b[38;5;21;01mimage\u001b[39;00m \u001b[38;5;28;01mimport\u001b[39;00m summary \u001b[38;5;28;01mas\u001b[39;00m _image_summary\n\u001b[0;32m     25\u001b[0m \u001b[38;5;28;01mfrom\u001b[39;00m \u001b[38;5;21;01mtensorboard\u001b[39;00m\u001b[38;5;21;01m.\u001b[39;00m\u001b[38;5;21;01mplugins\u001b[39;00m\u001b[38;5;21;01m.\u001b[39;00m\u001b[38;5;21;01mpr_curve\u001b[39;00m \u001b[38;5;28;01mimport\u001b[39;00m summary \u001b[38;5;28;01mas\u001b[39;00m _pr_curve_summary\n",
      "File \u001b[1;32mc:\\Users\\kina5\\Desktop\\Bootcamp\\mi_entorno\\lib\\site-packages\\tensorboard\\plugins\\histogram\\summary.py:34\u001b[0m\n\u001b[0;32m     15\u001b[0m \u001b[38;5;124;03m\"\"\"Histogram summaries and TensorFlow operations to create them.\u001b[39;00m\n\u001b[0;32m     16\u001b[0m \n\u001b[0;32m     17\u001b[0m \u001b[38;5;124;03mA histogram summary stores a list of buckets. Each bucket is encoded as\u001b[39;00m\n\u001b[1;32m   (...)\u001b[0m\n\u001b[0;32m     28\u001b[0m \u001b[38;5;124;03mdata that it stores to disk will be supported forever.\u001b[39;00m\n\u001b[0;32m     29\u001b[0m \u001b[38;5;124;03m\"\"\"\u001b[39;00m\n\u001b[0;32m     32\u001b[0m \u001b[38;5;28;01mimport\u001b[39;00m \u001b[38;5;21;01mnumpy\u001b[39;00m \u001b[38;5;28;01mas\u001b[39;00m \u001b[38;5;21;01mnp\u001b[39;00m\n\u001b[1;32m---> 34\u001b[0m \u001b[38;5;28;01mfrom\u001b[39;00m \u001b[38;5;21;01mtensorboard\u001b[39;00m\u001b[38;5;21;01m.\u001b[39;00m\u001b[38;5;21;01mplugins\u001b[39;00m\u001b[38;5;21;01m.\u001b[39;00m\u001b[38;5;21;01mhistogram\u001b[39;00m \u001b[38;5;28;01mimport\u001b[39;00m metadata\n\u001b[0;32m     35\u001b[0m \u001b[38;5;28;01mfrom\u001b[39;00m \u001b[38;5;21;01mtensorboard\u001b[39;00m\u001b[38;5;21;01m.\u001b[39;00m\u001b[38;5;21;01mplugins\u001b[39;00m\u001b[38;5;21;01m.\u001b[39;00m\u001b[38;5;21;01mhistogram\u001b[39;00m \u001b[38;5;28;01mimport\u001b[39;00m summary_v2\n\u001b[0;32m     38\u001b[0m \u001b[38;5;66;03m# Export V3 versions.\u001b[39;00m\n",
      "File \u001b[1;32mc:\\Users\\kina5\\Desktop\\Bootcamp\\mi_entorno\\lib\\site-packages\\tensorboard\\plugins\\histogram\\metadata.py:19\u001b[0m\n\u001b[0;32m     15\u001b[0m \u001b[38;5;124;03m\"\"\"Information about histogram summaries.\"\"\"\u001b[39;00m\n\u001b[0;32m     18\u001b[0m \u001b[38;5;28;01mfrom\u001b[39;00m \u001b[38;5;21;01mtensorboard\u001b[39;00m\u001b[38;5;21;01m.\u001b[39;00m\u001b[38;5;21;01mcompat\u001b[39;00m\u001b[38;5;21;01m.\u001b[39;00m\u001b[38;5;21;01mproto\u001b[39;00m \u001b[38;5;28;01mimport\u001b[39;00m summary_pb2\n\u001b[1;32m---> 19\u001b[0m \u001b[38;5;28;01mfrom\u001b[39;00m \u001b[38;5;21;01mtensorboard\u001b[39;00m\u001b[38;5;21;01m.\u001b[39;00m\u001b[38;5;21;01mplugins\u001b[39;00m\u001b[38;5;21;01m.\u001b[39;00m\u001b[38;5;21;01mhistogram\u001b[39;00m \u001b[38;5;28;01mimport\u001b[39;00m plugin_data_pb2\n\u001b[0;32m     21\u001b[0m PLUGIN_NAME \u001b[38;5;241m=\u001b[39m \u001b[38;5;124m\"\u001b[39m\u001b[38;5;124mhistograms\u001b[39m\u001b[38;5;124m\"\u001b[39m\n\u001b[0;32m     23\u001b[0m \u001b[38;5;66;03m# The most recent value for the `version` field of the\u001b[39;00m\n\u001b[0;32m     24\u001b[0m \u001b[38;5;66;03m# `HistogramPluginData` proto.\u001b[39;00m\n",
      "File \u001b[1;32m<frozen importlib._bootstrap>:1027\u001b[0m, in \u001b[0;36m_find_and_load\u001b[1;34m(name, import_)\u001b[0m\n",
      "File \u001b[1;32m<frozen importlib._bootstrap>:1002\u001b[0m, in \u001b[0;36m_find_and_load_unlocked\u001b[1;34m(name, import_)\u001b[0m\n",
      "File \u001b[1;32m<frozen importlib._bootstrap>:945\u001b[0m, in \u001b[0;36m_find_spec\u001b[1;34m(name, path, target)\u001b[0m\n",
      "File \u001b[1;32m<frozen importlib._bootstrap_external>:1439\u001b[0m, in \u001b[0;36mfind_spec\u001b[1;34m(cls, fullname, path, target)\u001b[0m\n",
      "File \u001b[1;32m<frozen importlib._bootstrap_external>:1411\u001b[0m, in \u001b[0;36m_get_spec\u001b[1;34m(cls, fullname, path, target)\u001b[0m\n",
      "File \u001b[1;32m<frozen importlib._bootstrap_external>:1577\u001b[0m, in \u001b[0;36mfind_spec\u001b[1;34m(self, fullname, target)\u001b[0m\n",
      "File \u001b[1;32m<frozen importlib._bootstrap_external>:161\u001b[0m, in \u001b[0;36m_path_isfile\u001b[1;34m(path)\u001b[0m\n",
      "File \u001b[1;32m<frozen importlib._bootstrap_external>:153\u001b[0m, in \u001b[0;36m_path_is_mode_type\u001b[1;34m(path, mode)\u001b[0m\n",
      "File \u001b[1;32m<frozen importlib._bootstrap_external>:147\u001b[0m, in \u001b[0;36m_path_stat\u001b[1;34m(path)\u001b[0m\n",
      "\u001b[1;31mKeyboardInterrupt\u001b[0m: "
     ]
    }
   ],
   "source": [
    "import tensorflow as tf\n",
    "from tensorflow.keras.datasets import mnist\n",
    "import numpy as np\n",
    "from tensorflow.keras.utils import to_categorical\n",
    "from tensorflow.keras.preprocessing.image import ImageDataGenerator\n",
    "import matplotlib.pyplot as plt"
   ]
  },
  {
   "cell_type": "markdown",
   "metadata": {},
   "source": [
    "### Carga y preparación del set de datos MNIST\n",
    "\n",
    "El conjunto de datos MNIST contiene imágenes en escala de grises de 28x28 píxeles. Las capas de convolución en Keras/TensorFlow esperan que los datos de entrada tengan la forma ``(número de muestras, altura, anchura, canales)``. En el caso de imágenes en escala de grises, el número de canales es 1 (a diferencia de las imágenes a color que tienen 3 canales: RGB)."
   ]
  },
  {
   "cell_type": "code",
   "execution_count": null,
   "metadata": {},
   "outputs": [],
   "source": [
    "#Cargar los datos de MNIST\n",
    "\n",
    "(X_entrenamiento, Y_entrenamiento), (X_pruebas, Y_pruebas) = mnist.load_data()\n",
    "\n",
    "#Colocar los datos en la forma correcta (1, 28, 28, 1)\n",
    "X_entrenamiento = X_entrenamiento.reshape(X_entrenamiento.shape[0], 28, 28, 1) # número de muestras, altura, anchura, canales\n",
    "X_pruebas = X_pruebas.reshape(X_pruebas.shape[0], 28, 28, 1)"
   ]
  },
  {
   "cell_type": "markdown",
   "metadata": {},
   "source": [
    "### Codificación y normalización de los datos"
   ]
  },
  {
   "cell_type": "code",
   "execution_count": null,
   "metadata": {},
   "outputs": [],
   "source": [
    "#Hacer 'one-hot encoding' de los resultados \n",
    "#NOTA: Cuando usamos una capa de salida softmax y categorical_crossentropy como función de pérdida, hay que trabajar con etiquetas codificadas\n",
    "Y_entrenamiento = to_categorical(Y_entrenamiento)\n",
    "Y_pruebas = to_categorical(Y_pruebas)\n",
    "\n",
    "#Convertir a flotante y normalizar para que aprenda mejor la red\n",
    "X_entrenamiento = X_entrenamiento.astype('float32') / 255\n",
    "X_pruebas = X_pruebas.astype('float32') / 255"
   ]
  },
  {
   "cell_type": "markdown",
   "metadata": {},
   "source": [
    "### Aumento de datos (Data Augmentation)\n",
    "\n",
    "Técnica que se utiliza para aumentar la cantidad de datos de entrenamiento, generando imágenes más variadas (rotaciones, cambios de posición, tamaño, etc). Esto ayuda a que la red sea más robusta, ya que evita que el modelo memorice en el entrenamiento."
   ]
  },
  {
   "cell_type": "code",
   "execution_count": 11,
   "metadata": {},
   "outputs": [],
   "source": [
    "# DATA AUGMENTATION\n",
    "\n",
    "rango_rotacion = 30\n",
    "mov_ancho = 0.25\n",
    "mov_alto = 0.25\n",
    "#rango_inclinacion=15 #No uso este de momento \n",
    "rango_acercamiento=[0.5,1.5] # Rango para zoom aleatorio. Se especifica que el zoom puede ser desde el 50 % al 150 % del tamaño original\n",
    "\n",
    "# ImageDataGenerator de keras permite aplicar las transformaciones especificadas en las imágenes de entrenamiento de manera aleatoria\n",
    "datagen = ImageDataGenerator( \n",
    "    rotation_range = rango_rotacion,\n",
    "    width_shift_range = mov_ancho,\n",
    "    height_shift_range = mov_alto,\n",
    "    zoom_range=rango_acercamiento,\n",
    "    #shear_range=rango_inclinacion #No uso este de momento\n",
    ")\n",
    "\n",
    "# Ajustar el Generador de Datos a los Datos de Entrenamiento\n",
    "datagen.fit(X_entrenamiento)"
   ]
  },
  {
   "cell_type": "code",
   "execution_count": null,
   "metadata": {},
   "outputs": [],
   "source": [
    "#Codigo para mostrar imagenes del set, no es necesario ejecutarlo, solo imprime como se ven antes y despues de las transformaciones\n",
    "filas = 4\n",
    "columnas = 8\n",
    "num = filas*columnas\n",
    "print('ANTES:\\n')\n",
    "fig1, axes1 = plt.subplots(filas, columnas, figsize=(1.5*columnas,2*filas))\n",
    "for i in range(num):\n",
    "     ax = axes1[i//columnas, i%columnas]\n",
    "     ax.imshow(X_entrenamiento[i].reshape(28,28), cmap='gray_r')\n",
    "     ax.set_title('Label: {}'.format(np.argmax(Y_entrenamiento[i])))\n",
    "plt.tight_layout()\n",
    "plt.show()\n",
    "print('DESPUES:\\n')\n",
    "fig2, axes2 = plt.subplots(filas, columnas, figsize=(1.5*columnas,2*filas))\n",
    "for X, Y in datagen.flow(X_entrenamiento,Y_entrenamiento.reshape(Y_entrenamiento.shape[0], 10),batch_size=num,shuffle=False):\n",
    "     for i in range(0, num):\n",
    "          ax = axes2[i//columnas, i%columnas]\n",
    "          ax.imshow(X[i].reshape(28,28), cmap='gray_r')\n",
    "          ax.set_title('Label: {}'.format(int(np.argmax(Y[i]))))\n",
    "     break\n",
    "plt.tight_layout()\n",
    "plt.show()"
   ]
  },
  {
   "cell_type": "markdown",
   "metadata": {},
   "source": [
    "### Creación del modelo y compilación"
   ]
  },
  {
   "cell_type": "markdown",
   "metadata": {},
   "source": [
    "- Dropout\n",
    "\n",
    "Se agrega en el entrenamiento del modelo, y funciona apagando de manera aleatoria un porcentaje de nodos durante el entrenamiento en cada paso de iteración. Esto obliga a la red neuronal a no depender excesivamente de ciertas neuronas, y evita el sobreajuste (overfitting).\n",
    "\n",
    "Ejemplo: ``(tf.keras.layers.Dropout(0.5)`` Si se le da 0.5, durante el entrenamiento, en cada uno de los ciclos (epoch), los nodos tendrán un 50 % de probabilidad de desactivarse. Esto permite que las neuronas se pongan a trabajar, haciendo que la red sea más robusta."
   ]
  },
  {
   "cell_type": "code",
   "execution_count": 12,
   "metadata": {},
   "outputs": [],
   "source": [
    "#Crear el modelo \n",
    "#Cuenta con 1 capa de convolución con 32 núcleos y otra con 64 | 2 capas de agrupación.\n",
    "#Finalmente una capa densa con 100 nodos\n",
    "modelo = tf.keras.Sequential([\n",
    "    tf.keras.layers.Conv2D(32, (3,3), input_shape=(28,28,1), activation='relu'), # decimos el nº de nucleos y su tamaño: 32 núcleos de 3x3 / con input_shape decimos el tamaño de la imagen de entrada (28) y su nº de canales, que como estamos usando blanco y negro es 1\n",
    "    tf.keras.layers.MaxPooling2D(2,2), #Capa de agrupación máxima, 2,2 es el tamano de la matriz\n",
    "\n",
    "    tf.keras.layers.Conv2D(64, (3,3), activation='relu'),\n",
    "    tf.keras.layers.MaxPooling2D(2,2), \n",
    "\n",
    "    tf.keras.layers.Dropout(0.5), # Esta es la línea del DROPOUT\n",
    "    tf.keras.layers.Flatten(),\n",
    "    tf.keras.layers.Dense(units=100, activation='relu'),\n",
    "    tf.keras.layers.Dense(10, activation='softmax')\n",
    "])\n",
    "\n",
    "#Compilación\n",
    "modelo.compile(optimizer='adam',\n",
    "              loss='categorical_crossentropy',\n",
    "              metrics=['accuracy'])"
   ]
  },
  {
   "cell_type": "code",
   "execution_count": 13,
   "metadata": {},
   "outputs": [],
   "source": [
    "#Los datos para entrenar saldran del datagen, de manera que sean generados con las transformaciones que indicamos\n",
    "#Datagen es una instancia de ImageDataGenerator configurada con las transformaciones de Data Augmentation que definimos anteriormente\n",
    "#El método flow toma los datos originales (X_entrenamiento y Y_entrenamiento) y los transforma en lotes según las transformaciones especificadas en datagen.\n",
    "data_gen_entrenamiento = datagen.flow(X_entrenamiento, Y_entrenamiento, batch_size=32)"
   ]
  },
  {
   "cell_type": "markdown",
   "metadata": {},
   "source": [
    "### Entrenamiento de la red neuronal"
   ]
  },
  {
   "cell_type": "markdown",
   "metadata": {},
   "source": [
    "NOTA: Tarda un buen rato"
   ]
  },
  {
   "cell_type": "code",
   "execution_count": 14,
   "metadata": {},
   "outputs": [
    {
     "name": "stdout",
     "output_type": "stream",
     "text": [
      "Entrenando modelo...\n",
      "Epoch 1/60\n",
      "WARNING:tensorflow:From c:\\Users\\kina5\\Desktop\\Bootcamp\\mi_entorno\\lib\\site-packages\\keras\\src\\utils\\tf_utils.py:492: The name tf.ragged.RaggedTensorValue is deprecated. Please use tf.compat.v1.ragged.RaggedTensorValue instead.\n",
      "\n",
      "WARNING:tensorflow:From c:\\Users\\kina5\\Desktop\\Bootcamp\\mi_entorno\\lib\\site-packages\\keras\\src\\engine\\base_layer_utils.py:384: The name tf.executing_eagerly_outside_functions is deprecated. Please use tf.compat.v1.executing_eagerly_outside_functions instead.\n",
      "\n",
      "1875/1875 [==============================] - 114s 58ms/step - loss: 1.1991 - accuracy: 0.5982 - val_loss: 0.1927 - val_accuracy: 0.9496\n",
      "Epoch 2/60\n",
      "1875/1875 [==============================] - 128s 68ms/step - loss: 0.6969 - accuracy: 0.7736 - val_loss: 0.1073 - val_accuracy: 0.9684\n",
      "Epoch 3/60\n",
      "1875/1875 [==============================] - 107s 57ms/step - loss: 0.5882 - accuracy: 0.8105 - val_loss: 0.1359 - val_accuracy: 0.9602\n",
      "Epoch 4/60\n",
      "1875/1875 [==============================] - 112s 60ms/step - loss: 0.5218 - accuracy: 0.8328 - val_loss: 0.1078 - val_accuracy: 0.9678\n",
      "Epoch 5/60\n",
      "1875/1875 [==============================] - 110s 59ms/step - loss: 0.4842 - accuracy: 0.8435 - val_loss: 0.0767 - val_accuracy: 0.9777\n",
      "Epoch 6/60\n",
      "1875/1875 [==============================] - 137s 73ms/step - loss: 0.4566 - accuracy: 0.8512 - val_loss: 0.0810 - val_accuracy: 0.9749\n",
      "Epoch 7/60\n",
      "1875/1875 [==============================] - 125s 67ms/step - loss: 0.4360 - accuracy: 0.8608 - val_loss: 0.0739 - val_accuracy: 0.9766\n",
      "Epoch 8/60\n",
      "1875/1875 [==============================] - 103s 55ms/step - loss: 0.4251 - accuracy: 0.8637 - val_loss: 0.0700 - val_accuracy: 0.9784\n",
      "Epoch 9/60\n",
      "1875/1875 [==============================] - 107s 57ms/step - loss: 0.4080 - accuracy: 0.8689 - val_loss: 0.0747 - val_accuracy: 0.9775\n",
      "Epoch 10/60\n",
      "1875/1875 [==============================] - 96s 51ms/step - loss: 0.3925 - accuracy: 0.8719 - val_loss: 0.0627 - val_accuracy: 0.9799\n",
      "Epoch 11/60\n",
      "1875/1875 [==============================] - 95s 51ms/step - loss: 0.3835 - accuracy: 0.8762 - val_loss: 0.0637 - val_accuracy: 0.9804\n",
      "Epoch 12/60\n",
      "1875/1875 [==============================] - 96s 51ms/step - loss: 0.3761 - accuracy: 0.8788 - val_loss: 0.0673 - val_accuracy: 0.9781\n",
      "Epoch 13/60\n",
      "1875/1875 [==============================] - 96s 51ms/step - loss: 0.3689 - accuracy: 0.8812 - val_loss: 0.0584 - val_accuracy: 0.9818\n",
      "Epoch 14/60\n",
      "1875/1875 [==============================] - 110s 59ms/step - loss: 0.3610 - accuracy: 0.8837 - val_loss: 0.0538 - val_accuracy: 0.9826\n",
      "Epoch 15/60\n",
      "1875/1875 [==============================] - 85s 45ms/step - loss: 0.3507 - accuracy: 0.8866 - val_loss: 0.0486 - val_accuracy: 0.9849\n",
      "Epoch 16/60\n",
      "1875/1875 [==============================] - 94s 50ms/step - loss: 0.3492 - accuracy: 0.8868 - val_loss: 0.0520 - val_accuracy: 0.9835\n",
      "Epoch 17/60\n",
      "1875/1875 [==============================] - 72s 38ms/step - loss: 0.3473 - accuracy: 0.8875 - val_loss: 0.0588 - val_accuracy: 0.9814\n",
      "Epoch 18/60\n",
      "1875/1875 [==============================] - 77s 41ms/step - loss: 0.3453 - accuracy: 0.8884 - val_loss: 0.0501 - val_accuracy: 0.9834\n",
      "Epoch 19/60\n",
      "1875/1875 [==============================] - 83s 44ms/step - loss: 0.3392 - accuracy: 0.8899 - val_loss: 0.0468 - val_accuracy: 0.9839\n",
      "Epoch 20/60\n",
      "1875/1875 [==============================] - 61s 33ms/step - loss: 0.3314 - accuracy: 0.8935 - val_loss: 0.0581 - val_accuracy: 0.9816\n",
      "Epoch 21/60\n",
      "1875/1875 [==============================] - 69s 37ms/step - loss: 0.3296 - accuracy: 0.8938 - val_loss: 0.0563 - val_accuracy: 0.9817\n",
      "Epoch 22/60\n",
      "1875/1875 [==============================] - 72s 38ms/step - loss: 0.3332 - accuracy: 0.8931 - val_loss: 0.0563 - val_accuracy: 0.9813\n",
      "Epoch 23/60\n",
      "1875/1875 [==============================] - 62s 33ms/step - loss: 0.3284 - accuracy: 0.8929 - val_loss: 0.0578 - val_accuracy: 0.9811\n",
      "Epoch 24/60\n",
      "1875/1875 [==============================] - 66s 35ms/step - loss: 0.3225 - accuracy: 0.8978 - val_loss: 0.0481 - val_accuracy: 0.9849\n",
      "Epoch 25/60\n",
      "1875/1875 [==============================] - 67s 35ms/step - loss: 0.3202 - accuracy: 0.8962 - val_loss: 0.0667 - val_accuracy: 0.9787\n",
      "Epoch 26/60\n",
      "1875/1875 [==============================] - 78s 42ms/step - loss: 0.3192 - accuracy: 0.8980 - val_loss: 0.0466 - val_accuracy: 0.9843\n",
      "Epoch 27/60\n",
      "1875/1875 [==============================] - 65s 35ms/step - loss: 0.3154 - accuracy: 0.8984 - val_loss: 0.0574 - val_accuracy: 0.9822\n",
      "Epoch 28/60\n",
      "1875/1875 [==============================] - 67s 36ms/step - loss: 0.3143 - accuracy: 0.8985 - val_loss: 0.0477 - val_accuracy: 0.9843\n",
      "Epoch 29/60\n",
      "1875/1875 [==============================] - 62s 33ms/step - loss: 0.3116 - accuracy: 0.9000 - val_loss: 0.0471 - val_accuracy: 0.9848\n",
      "Epoch 30/60\n",
      "1875/1875 [==============================] - 63s 34ms/step - loss: 0.3078 - accuracy: 0.8997 - val_loss: 0.0415 - val_accuracy: 0.9857\n",
      "Epoch 31/60\n",
      "1875/1875 [==============================] - 63s 33ms/step - loss: 0.3082 - accuracy: 0.9003 - val_loss: 0.0460 - val_accuracy: 0.9846\n",
      "Epoch 32/60\n",
      "1875/1875 [==============================] - 69s 37ms/step - loss: 0.3044 - accuracy: 0.9018 - val_loss: 0.0559 - val_accuracy: 0.9826\n",
      "Epoch 33/60\n",
      "1875/1875 [==============================] - 67s 36ms/step - loss: 0.3061 - accuracy: 0.9019 - val_loss: 0.0551 - val_accuracy: 0.9817\n",
      "Epoch 34/60\n",
      "1875/1875 [==============================] - 63s 33ms/step - loss: 0.2985 - accuracy: 0.9030 - val_loss: 0.0624 - val_accuracy: 0.9804\n",
      "Epoch 35/60\n",
      "1875/1875 [==============================] - 61s 33ms/step - loss: 0.3003 - accuracy: 0.9029 - val_loss: 0.0670 - val_accuracy: 0.9785\n",
      "Epoch 36/60\n",
      "1875/1875 [==============================] - 64s 34ms/step - loss: 0.2986 - accuracy: 0.9028 - val_loss: 0.0505 - val_accuracy: 0.9843\n",
      "Epoch 37/60\n",
      "1875/1875 [==============================] - 61s 33ms/step - loss: 0.2961 - accuracy: 0.9051 - val_loss: 0.0476 - val_accuracy: 0.9853\n",
      "Epoch 38/60\n",
      "1875/1875 [==============================] - 73s 39ms/step - loss: 0.2934 - accuracy: 0.9052 - val_loss: 0.0510 - val_accuracy: 0.9827\n",
      "Epoch 39/60\n",
      "1875/1875 [==============================] - 74s 40ms/step - loss: 0.2967 - accuracy: 0.9055 - val_loss: 0.0558 - val_accuracy: 0.9829\n",
      "Epoch 40/60\n",
      "1875/1875 [==============================] - 66s 35ms/step - loss: 0.2954 - accuracy: 0.9059 - val_loss: 0.0608 - val_accuracy: 0.9811\n",
      "Epoch 41/60\n",
      "1875/1875 [==============================] - 65s 35ms/step - loss: 0.2959 - accuracy: 0.9042 - val_loss: 0.0485 - val_accuracy: 0.9841\n",
      "Epoch 42/60\n",
      "1875/1875 [==============================] - 67s 36ms/step - loss: 0.2970 - accuracy: 0.9046 - val_loss: 0.0516 - val_accuracy: 0.9844\n",
      "Epoch 43/60\n",
      "1875/1875 [==============================] - 66s 35ms/step - loss: 0.2912 - accuracy: 0.9071 - val_loss: 0.0483 - val_accuracy: 0.9853\n",
      "Epoch 44/60\n",
      "1875/1875 [==============================] - 69s 37ms/step - loss: 0.2961 - accuracy: 0.9049 - val_loss: 0.0597 - val_accuracy: 0.9821\n",
      "Epoch 45/60\n",
      "1875/1875 [==============================] - 67s 35ms/step - loss: 0.2891 - accuracy: 0.9072 - val_loss: 0.0499 - val_accuracy: 0.9857\n",
      "Epoch 46/60\n",
      "1875/1875 [==============================] - 67s 35ms/step - loss: 0.2865 - accuracy: 0.9064 - val_loss: 0.0609 - val_accuracy: 0.9814\n",
      "Epoch 47/60\n",
      "1875/1875 [==============================] - 74s 40ms/step - loss: 0.2890 - accuracy: 0.9082 - val_loss: 0.0465 - val_accuracy: 0.9849\n",
      "Epoch 48/60\n",
      "1875/1875 [==============================] - 65s 34ms/step - loss: 0.2803 - accuracy: 0.9086 - val_loss: 0.0493 - val_accuracy: 0.9841\n",
      "Epoch 49/60\n",
      "1875/1875 [==============================] - 64s 34ms/step - loss: 0.2838 - accuracy: 0.9085 - val_loss: 0.0474 - val_accuracy: 0.9855\n",
      "Epoch 50/60\n",
      "1875/1875 [==============================] - 65s 35ms/step - loss: 0.2790 - accuracy: 0.9097 - val_loss: 0.0724 - val_accuracy: 0.9785\n",
      "Epoch 51/60\n",
      "1875/1875 [==============================] - 64s 34ms/step - loss: 0.2828 - accuracy: 0.9088 - val_loss: 0.0466 - val_accuracy: 0.9862\n",
      "Epoch 52/60\n",
      "1875/1875 [==============================] - 65s 34ms/step - loss: 0.2797 - accuracy: 0.9096 - val_loss: 0.0495 - val_accuracy: 0.9846\n",
      "Epoch 53/60\n",
      "1875/1875 [==============================] - 64s 34ms/step - loss: 0.2803 - accuracy: 0.9089 - val_loss: 0.0474 - val_accuracy: 0.9846\n",
      "Epoch 54/60\n",
      "1875/1875 [==============================] - 64s 34ms/step - loss: 0.2836 - accuracy: 0.9094 - val_loss: 0.0467 - val_accuracy: 0.9848\n",
      "Epoch 55/60\n",
      "1875/1875 [==============================] - 64s 34ms/step - loss: 0.2794 - accuracy: 0.9104 - val_loss: 0.0504 - val_accuracy: 0.9848\n",
      "Epoch 56/60\n",
      "1875/1875 [==============================] - 66s 35ms/step - loss: 0.2800 - accuracy: 0.9102 - val_loss: 0.0510 - val_accuracy: 0.9843\n",
      "Epoch 57/60\n",
      "1875/1875 [==============================] - 66s 35ms/step - loss: 0.2846 - accuracy: 0.9092 - val_loss: 0.0486 - val_accuracy: 0.9841\n",
      "Epoch 58/60\n",
      "1875/1875 [==============================] - 67s 35ms/step - loss: 0.2762 - accuracy: 0.9119 - val_loss: 0.0519 - val_accuracy: 0.9837\n",
      "Epoch 59/60\n",
      "1875/1875 [==============================] - 65s 35ms/step - loss: 0.2786 - accuracy: 0.9097 - val_loss: 0.0480 - val_accuracy: 0.9853\n",
      "Epoch 60/60\n",
      "1875/1875 [==============================] - 86s 46ms/step - loss: 0.2814 - accuracy: 0.9105 - val_loss: 0.0511 - val_accuracy: 0.9839\n",
      "Modelo entrenado!\n"
     ]
    }
   ],
   "source": [
    "TAMANO_LOTE = 32\n",
    "\n",
    "print(\"Entrenando modelo...\");\n",
    "epocas=60\n",
    "history = modelo.fit(\n",
    "    data_gen_entrenamiento,\n",
    "    epochs=epocas,\n",
    "    batch_size=TAMANO_LOTE,\n",
    "    validation_data=(X_pruebas, Y_pruebas),\n",
    "    steps_per_epoch=int(np.ceil(60000 / float(TAMANO_LOTE))),\n",
    "    validation_steps=int(np.ceil(10000 / float(TAMANO_LOTE)))\n",
    ")\n",
    "\n",
    "print(\"Modelo entrenado!\");"
   ]
  },
  {
   "cell_type": "markdown",
   "metadata": {},
   "source": [
    "### Gráficos"
   ]
  },
  {
   "cell_type": "code",
   "execution_count": null,
   "metadata": {},
   "outputs": [],
   "source": [
    "# grafica la funcion de perdida y el accuracy para el dataset de entrenamiento y validacion. \n",
    "accuracy = history.history['accuracy']\n",
    "val_accuracy = history.history['val_accuracy']\n",
    "\n",
    "loss = history.history['loss']\n",
    "val_loss = history.history['val_loss']\n",
    "\n",
    "epochs = range(len(accuracy))\n",
    "plt.plot(epochs, accuracy, 'b', label='Training accuracy')\n",
    "plt.plot(epochs, val_accuracy, 'r', label='Validation accuracy')\n",
    "\n",
    "plt.title('Training and validation accuracy')\n",
    "plt.legend()\n",
    "plt.figure()\n",
    "plt.plot(epochs, loss, 'b', label='Training loss')\n",
    "plt.plot(epochs, val_loss, 'r', label='Validation loss')\n",
    "\n",
    "plt.title('Training and validation loss')\n",
    "plt.legend()\n",
    "plt.show()"
   ]
  },
  {
   "cell_type": "markdown",
   "metadata": {},
   "source": [
    "### Guardar modelo entrenado"
   ]
  },
  {
   "cell_type": "code",
   "execution_count": 17,
   "metadata": {},
   "outputs": [],
   "source": [
    "# guardar modelo\n",
    "modelo.save('models/pred_numeros.keras')"
   ]
  }
 ],
 "metadata": {
  "kernelspec": {
   "display_name": "mi_entorno",
   "language": "python",
   "name": "python3"
  },
  "language_info": {
   "codemirror_mode": {
    "name": "ipython",
    "version": 3
   },
   "file_extension": ".py",
   "mimetype": "text/x-python",
   "name": "python",
   "nbconvert_exporter": "python",
   "pygments_lexer": "ipython3",
   "version": "3.10.10"
  }
 },
 "nbformat": 4,
 "nbformat_minor": 2
}
